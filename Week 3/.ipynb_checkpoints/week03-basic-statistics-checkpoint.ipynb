{
 "cells": [
  {
   "cell_type": "markdown",
   "metadata": {},
   "source": [
    "# CMS3504 - Week 03 Lab Exercises: Basic Univariate Statistics\n",
    "\n",
    "In this exercise, you will work through the calculation of some fundamental univariate statistics.\n",
    "The primary aim here is to raise awareness of the underlying computation required for some common statistical methods.\n",
    "This will motivate further consideration when dealing with standard data analysis when the data volume and complexity are high."
   ]
  },
  {
   "cell_type": "markdown",
   "metadata": {},
   "source": [
    "## Examples from the Lecture:\n",
    "\n",
    "The following blocks are code examples from this week's lecture.\n",
    "It is recommended that you run through these examples before attempting the lab exercise tasks.\n",
    "\n",
    "In this week's exercise, we will make use of the package numpy and timeit.\n",
    "\n",
    "`numpy`: https://numpy.org/devdocs/user/quickstart.html\n",
    "`timeit`: https://docs.python.org/3/library/timeit.html"
   ]
  },
  {
   "cell_type": "code",
   "execution_count": 3,
   "metadata": {},
   "outputs": [],
   "source": [
    "%matplotlib notebook\n",
    "#pandas untilites and methods are from the pandas package\n",
    "import pandas as pd\n",
    "import numpy as np\n",
    "\n",
    "#We will use the timeit package to do test how long a calculate takes\n",
    "#https://docs.python.org/3/library/timeit.html\n",
    "import timeit"
   ]
  },
  {
   "cell_type": "markdown",
   "metadata": {},
   "source": [
    "pandas has number methods for importing data from files and data stores, e.g. json, excel, csv, html, HDFS\n",
    "See: https://pandas.pydata.org/pandas-docs/stable/reference/io.html\n",
    "\n",
    "This week we will use the adult_full.data which contains 50% more instances than adult.data"
   ]
  },
  {
   "cell_type": "code",
   "execution_count": 119,
   "metadata": {},
   "outputs": [],
   "source": [
    "#pandas has a number helper methods for import data from files, e.g. csv, json\n",
    "#Here we import data from a csv file\n",
    "adult_data = pd.read_csv('./adult_full.data')"
   ]
  },
  {
   "cell_type": "markdown",
   "metadata": {},
   "source": [
    "__Nominal Variables__\n",
    "\n",
    "When working with nominal variables, it is often useful to find out all the unique values (labels) a variable can take."
   ]
  },
  {
   "cell_type": "code",
   "execution_count": 5,
   "metadata": {},
   "outputs": [
    {
     "name": "stdout",
     "output_type": "stream",
     "text": [
      "[' Adm-clerical' ' Exec-managerial' ' Handlers-cleaners' ' Prof-specialty'\n",
      " ' Other-service' ' Sales' ' Craft-repair' ' Transport-moving'\n",
      " ' Farming-fishing' ' Machine-op-inspct' ' Tech-support' ' ?'\n",
      " ' Protective-serv' ' Armed-Forces' ' Priv-house-serv']\n",
      "<class 'numpy.ndarray'>\n"
     ]
    }
   ],
   "source": [
    "#use the method unique to extract unique values of the occupation column\n",
    "#n.b. with a pandas dataframe, we can also access a column as a field in an object\n",
    "# the following is equivalent to adult_data['occupation']\n",
    "occupations = adult_data.occupation.unique()\n",
    "\n",
    "print(occupations)\n",
    "#N.B: the method unique returns the results as a numpy array\n",
    "print(type(occupations))"
   ]
  },
  {
   "cell_type": "code",
   "execution_count": 6,
   "metadata": {},
   "outputs": [
    {
     "name": "stdout",
     "output_type": "stream",
     "text": [
      "[' Not-in-family' ' Husband' ' Wife' ' Own-child' ' Unmarried'\n",
      " ' Other-relative']\n"
     ]
    }
   ],
   "source": [
    "#relationship column\n",
    "relationship = adult_data.relationship.unique()\n",
    "print(relationship)"
   ]
  },
  {
   "cell_type": "markdown",
   "metadata": {},
   "source": [
    "__Ordinal Variables__\n",
    "\n",
    "There is no explicit ordinal variable in the adult data set.\n",
    "However, as with any data analysi, we can use reasoning to treat certain columns as ordinal.\n",
    "For example, it is reasonable to think the variable education can be ranked/ordered.\n",
    "\n",
    "It is quite apparent from the code below, the values used in education is perhaps not arranged in the desired ranking order in the array. A possible solution is to associate an integer with each label using a dictionary.\n"
   ]
  },
  {
   "cell_type": "code",
   "execution_count": 7,
   "metadata": {},
   "outputs": [
    {
     "name": "stdout",
     "output_type": "stream",
     "text": [
      "[' Bachelors' ' HS-grad' ' 11th' ' Masters' ' 9th' ' Some-college'\n",
      " ' Assoc-acdm' ' Assoc-voc' ' 7th-8th' ' Doctorate' ' Prof-school'\n",
      " ' 5th-6th' ' 10th' ' 1st-4th' ' Preschool' ' 12th']\n"
     ]
    }
   ],
   "source": [
    "#Education \n",
    "education = adult_data.education.unique()\n",
    "print(education)"
   ]
  },
  {
   "cell_type": "code",
   "execution_count": 8,
   "metadata": {},
   "outputs": [],
   "source": [
    "#create a education rank dictionary, please note I made up the ranks arbitrarily\n",
    "education_rank = {' Bachelors':12, ' HS-grad':8, ' 11th':6, ' Masters':14, ' 9th':5, ' Some-college':11,\n",
    " ' Assoc-acdm':10, ' Assoc-voc':9, ' 7th-8th':4, ' Doctorate':15, ' Prof-school':13,\n",
    " ' 5th-6th':3, ' 10th':16, ' 1st-4th':2, ' Preschool':1, ' 12th':7}"
   ]
  },
  {
   "cell_type": "markdown",
   "metadata": {},
   "source": [
    "__Frequency Distribution__\n",
    "\n",
    "The Freuqncy Distribution (FD) of a nominal/ordinal variable is useful for indicating the spread of our data over the values of a variable.\n",
    "\n",
    "This can be calculated manually or using a pandas built-in method.\n",
    "\n",
    "In the example below, the execution time of the manual calculation and built-in method is also evaluated.\n",
    "You can see which yields faster execution."
   ]
  },
  {
   "cell_type": "code",
   "execution_count": 9,
   "metadata": {},
   "outputs": [
    {
     "name": "stdout",
     "output_type": "stream",
     "text": [
      "{' Bachelors': 8025, ' HS-grad': 15784, ' 11th': 1812, ' Masters': 2657, ' 9th': 756, ' Some-college': 10878, ' Assoc-acdm': 1601, ' Assoc-voc': 2061, ' 7th-8th': 955, ' Doctorate': 594, ' Prof-school': 834, ' 5th-6th': 509, ' 10th': 1389, ' 1st-4th': 247, ' Preschool': 83, ' 12th': 657}\n",
      "Execution time using manual method  0.009415794000005917  seconds\n"
     ]
    }
   ],
   "source": [
    "#calculate FD of education manually\n",
    "fd_education = {' Bachelors':0, ' HS-grad':0, ' 11th':0, ' Masters':0, ' 9th':0, ' Some-college':0,' Assoc-acdm':0, ' Assoc-voc':0, ' 7th-8th':0, ' Doctorate':0, ' Prof-school':0,' 5th-6th':0, ' 10th':0, ' 1st-4th':0, ' Preschool':0, ' 12th':0}\n",
    "\n",
    "#start the timer before entering the loop\n",
    "start = timeit.default_timer()\n",
    "\n",
    "for education in adult_data['education']:\n",
    "       fd_education[education] = fd_education[education] + 1\n",
    "\n",
    "#caluclate the elapsed time after the calculation is finished\n",
    "elapsed = timeit.default_timer() - start\n",
    "print(fd_education)\n",
    "print('Execution time using manual method ', elapsed, ' seconds')"
   ]
  },
  {
   "cell_type": "code",
   "execution_count": 10,
   "metadata": {},
   "outputs": [
    {
     "name": "stdout",
     "output_type": "stream",
     "text": [
      " HS-grad         15784\n",
      " Some-college    10878\n",
      " Bachelors        8025\n",
      " Masters          2657\n",
      " Assoc-voc        2061\n",
      " 11th             1812\n",
      " Assoc-acdm       1601\n",
      " 10th             1389\n",
      " 7th-8th           955\n",
      " Prof-school       834\n",
      " 9th               756\n",
      " 12th              657\n",
      " Doctorate         594\n",
      " 5th-6th           509\n",
      " 1st-4th           247\n",
      " Preschool          83\n",
      "Name: education, dtype: int64\n",
      "Execution time using built-in function  0.0035995860000070934  seconds\n"
     ]
    }
   ],
   "source": [
    "#alternatively use the method value_counts\n",
    "#start the timer before entering the loop\n",
    "start = timeit.default_timer()\n",
    "fd_education = pd.value_counts(adult_data.education)\n",
    "elapsed = timeit.default_timer() - start\n",
    "print(fd_education)\n",
    "print('Execution time using built-in function ', elapsed, ' seconds')"
   ]
  },
  {
   "cell_type": "markdown",
   "metadata": {},
   "source": [
    "__Histogram__\n",
    "\n",
    "Histogram is similar to frequency distribution in that it also tells us how our data samples are spread over the values.\n",
    "However, histograms should only be used for interval/ratio types variables where distance between values are numerically meaningful.\n",
    "\n",
    "The example below use the age column of the data to demonstrate how histogram can be created."
   ]
  },
  {
   "cell_type": "code",
   "execution_count": 11,
   "metadata": {},
   "outputs": [
    {
     "name": "stdout",
     "output_type": "stream",
     "text": [
      "36    1348\n",
      "35    1337\n",
      "33    1335\n",
      "23    1329\n",
      "31    1325\n",
      "      ... \n",
      "88       6\n",
      "85       5\n",
      "87       3\n",
      "89       2\n",
      "86       1\n",
      "Name: age, Length: 74, dtype: int64\n",
      "17     595\n",
      "18     862\n",
      "19    1053\n",
      "20    1113\n",
      "21    1096\n",
      "      ... \n",
      "86       1\n",
      "87       3\n",
      "88       6\n",
      "89       2\n",
      "90      55\n",
      "Name: age, Length: 74, dtype: int64\n"
     ]
    }
   ],
   "source": [
    "#manual histogram\n",
    "#it is possible to construct a histogram from the FD of a column\n",
    "#first: get the frequency distribution of a column\n",
    "fd_age = pd.value_counts(adult_data.age)\n",
    "print(fd_age)\n",
    "\n",
    "#second: then sort the FD in ascending order based on the value, note the ages is actually the indices\n",
    "fd_age = fd_age.sort_index()\n",
    "print(fd_age)\n",
    "\n",
    "#Final step: Consolidate the FD into a number of designated bins. More often, the number of bins is much fewer\n",
    "#than the number unique values. See Task 6"
   ]
  },
  {
   "cell_type": "code",
   "execution_count": 12,
   "metadata": {
    "scrolled": true
   },
   "outputs": [
    {
     "name": "stdout",
     "output_type": "stream",
     "text": [
      "[[<matplotlib.axes._subplots.AxesSubplot object at 0x000001C2345C8F88>]]\n",
      "[[<matplotlib.axes._subplots.AxesSubplot object at 0x000001C234E29B48>]]\n",
      "[[<matplotlib.axes._subplots.AxesSubplot object at 0x000001C234E951C8>]]\n"
     ]
    },
    {
     "data": {
      "image/png": "[encoded data removed]",
      "text/plain": [
       "<Figure size 432x288 with 1 Axes>"
      ]
     },
     "metadata": {
      "needs_background": "light"
     },
     "output_type": "display_data"
    },
    {
     "data": {
      "image/png": "[encoded data removed]",
      "text/plain": [
       "<Figure size 432x288 with 1 Axes>"
      ]
     },
     "metadata": {
      "needs_background": "light"
     },
     "output_type": "display_data"
    },
    {
     "data": {
      "image/png": "[encoded data removed]",
      "text/plain": [
       "<Figure size 432x288 with 1 Axes>"
      ]
     },
     "metadata": {
      "needs_background": "light"
     },
     "output_type": "display_data"
    }
   ],
   "source": [
    "%matplotlib inline\n",
    "\n",
    "#create histogram using the method hist\n",
    "#a histogram with 10 bins\n",
    "hist_age = adult_data.hist(column='age', bins=10)\n",
    "print(hist_age)\n",
    "\n",
    "#a histogram with 20 bins\n",
    "hist_age = adult_data.hist(column='age', bins=20)\n",
    "print(hist_age)\n",
    "\n",
    "#a histogram with 70 bins, this is nearly 1 bin for each unique age in the data\n",
    "hist_age = adult_data.hist(column='age', bins=70)\n",
    "print(hist_age)"
   ]
  },
  {
   "cell_type": "markdown",
   "metadata": {},
   "source": [
    "__Median__\n",
    "\n",
    "The median of a variable is often referred to as the middle value of a given set of data.\n",
    "This is predicated on the data must be sorted against the variable of interest.\n",
    "\n",
    "The example below shows the process of calculating the median age of the adult data set.\n",
    "\n",
    "pandas has built-in methods for some of the basic descriptive statistics:\n",
    "\n",
    "`mean`: https://pandas.pydata.org/pandas-docs/stable/reference/api/pandas.DataFrame.mean.html#pandas.DataFrame.mean\n",
    "\n",
    "`median`: https://pandas.pydata.org/pandas-docs/stable/reference/api/pandas.DataFrame.median.html#pandas.DataFrame.median\n",
    "\n",
    "`mode`: https://pandas.pydata.org/pandas-docs/stable/reference/api/pandas.DataFrame.mode.html#pandas.DataFrame.mode\n",
    "\n",
    "`std`: https://pandas.pydata.org/pandas-docs/stable/reference/api/pandas.DataFrame.std.html#pandas.DataFrame.std\n",
    "\n",
    "`var`: https://pandas.pydata.org/pandas-docs/stable/reference/api/pandas.DataFrame.var.html#pandas.DataFrame.var\n",
    "\n"
   ]
  },
  {
   "cell_type": "code",
   "execution_count": 13,
   "metadata": {},
   "outputs": [
    {
     "name": "stdout",
     "output_type": "stream",
     "text": [
      "(Manual method) The median age is  37.0\n",
      "Manual calculation took  0.004153996000013649  seconds\n",
      "(Builtin method) The median age is  37.0\n",
      "Built-in median took  0.001157110000008288  seconds\n"
     ]
    }
   ],
   "source": [
    "start = timeit.default_timer()\n",
    "#get the sorted values of the age column\n",
    "ages_sorted = adult_data.age.sort_values()\n",
    "#get the number samples in the data\n",
    "count = len(ages_sorted)\n",
    "#calculate the index to the middle of the data\n",
    "middle = np.int(count*0.5)\n",
    "if count % 2 == 0:\n",
    "    median = 0.5*(ages_sorted.iloc[middle] + ages_sorted.iloc[middle + 1])\n",
    "else:\n",
    "    median = ages_sorted.iloc[middle]\n",
    "    \n",
    "elapsed = timeit.default_timer() - start\n",
    "print('(Manual method) The median age is ',median)\n",
    "print('Manual calculation took ', elapsed, ' seconds')\n",
    "\n",
    "start = timeit.default_timer()\n",
    "print('(Builtin method) The median age is ', adult_data.age.median())\n",
    "elapsed = timeit.default_timer() - start\n",
    "print('Built-in median took ', elapsed, ' seconds')"
   ]
  },
  {
   "cell_type": "markdown",
   "metadata": {},
   "source": [
    "## Exercise Tasks: Complete the following tasks "
   ]
  },
  {
   "cell_type": "markdown",
   "metadata": {},
   "source": [
    "__Task 1:__ \n",
    "\n",
    "Calculate the frequency distribution for each of the following attributes:\n",
    "- education\n",
    "- workclass\n",
    "- occupation\n",
    "- Marital-status\n",
    "- relationship\n",
    "\n",
    "and organise the results into a python dictionary."
   ]
  },
  {
   "cell_type": "code",
   "execution_count": 14,
   "metadata": {},
   "outputs": [
    {
     "name": "stdout",
     "output_type": "stream",
     "text": [
      "{' HS-grad': 15784, ' Some-college': 10878, ' Bachelors': 8025, ' Masters': 2657, ' Assoc-voc': 2061, ' 11th': 1812, ' Assoc-acdm': 1601, ' 10th': 1389, ' 7th-8th': 955, ' Prof-school': 834, ' 9th': 756, ' 12th': 657, ' Doctorate': 594, ' 5th-6th': 509, ' 1st-4th': 247, ' Preschool': 83, ' Private': 33906, ' Self-emp-not-inc': 3862, ' Local-gov': 3136, ' ?': 2809, ' State-gov': 1981, ' Self-emp-inc': 1695, ' Federal-gov': 1432, ' Without-pay': 21, ' Never-worked': 10, ' Prof-specialty': 6172, ' Craft-repair': 6112, ' Exec-managerial': 6086, ' Adm-clerical': 5611, ' Sales': 5504, ' Other-service': 4923, ' Machine-op-inspct': 3022, ' Transport-moving': 2355, ' Handlers-cleaners': 2072, ' Farming-fishing': 1490, ' Tech-support': 1446, ' Protective-serv': 983, ' Priv-house-serv': 242, ' Armed-Forces': 15, ' Married-civ-spouse': 22379, ' Never-married': 16117, ' Divorced': 6633, ' Separated': 1530, ' Widowed': 1518, ' Married-spouse-absent': 628, ' Married-AF-spouse': 37, ' Husband': 19716, ' Not-in-family': 12583, ' Own-child': 7581, ' Unmarried': 5125, ' Wife': 2331, ' Other-relative': 1506}\n"
     ]
    }
   ],
   "source": [
    "#put frequency distributions into dictionaries\n",
    "\n",
    "fd_education = pd.value_counts(adult_data.education).to_dict()\n",
    "\n",
    "fd_workclass = pd.value_counts(adult_data.workclass).to_dict()\n",
    "\n",
    "fd_occupation = pd.value_counts(adult_data.occupation).to_dict()\n",
    "\n",
    "fd_marital_status = pd.value_counts(adult_data['Marital-status']).to_dict()\n",
    "\n",
    "fd_relationship = pd.value_counts(adult_data.relationship).to_dict()\n",
    "\n",
    "\n",
    "#concat all dictionaries\n",
    "dictfd = dict(fd_education)\n",
    "dictfd.update(fd_workclass)\n",
    "dictfd.update(fd_occupation)\n",
    "dictfd.update(fd_marital_status)\n",
    "dictfd.update(fd_relationship);\n",
    "\n",
    "#print dictionaries\n",
    "print(dictfd)"
   ]
  },
  {
   "cell_type": "markdown",
   "metadata": {},
   "source": [
    "__Task 2:__ \n",
    "\n",
    "Similar to __Task 1__, but this time, only calculate the frequency ditribution for those meeting the following criteria:\n",
    "- age < 65\n",
    "- native_country is not United-States\n",
    "- salary is <=50K\n",
    "\n",
    "Organise the results into a python dictionary"
   ]
  },
  {
   "cell_type": "code",
   "execution_count": 35,
   "metadata": {},
   "outputs": [
    {
     "name": "stdout",
     "output_type": "stream",
     "text": [
      "{28: 107, 25: 105, 23: 104, 27: 98, 30: 93, 29: 93, 33: 89, 24: 89, 26: 89, 31: 87, 32: 82, 22: 79, 41: 77, 36: 75, 34: 73, 37: 69, 21: 68, 20: 64, 38: 63, 35: 58, 47: 56, 43: 55, 42: 55, 39: 53, 19: 53, 46: 52, 45: 52, 40: 51, 44: 50, 50: 39, 49: 39, 48: 36, 53: 36, 51: 32, 52: 32, 57: 31, 56: 29, 55: 27, 54: 27, 18: 26, 59: 26, 58: 22, 17: 21, 61: 18, 60: 17, 62: 16, 63: 15, 64: 11, ' Mexico': 607, ' ?': 423, ' Philippines': 129, ' Puerto-Rico': 98, ' El-Salvador': 97, ' Germany': 88, ' Canada': 73, ' Jamaica': 70, ' Dominican-Republic': 67, ' Cuba': 63, ' South': 62, ' Guatemala': 60, ' India': 60, ' Vietnam': 59, ' Columbia': 56, ' England': 56, ' China': 53, ' Poland': 45, ' Italy': 45, ' Haiti': 40, ' Japan': 38, ' Portugal': 31, ' Taiwan': 31, ' Nicaragua': 31, ' Peru': 28, ' Iran': 25, ' Ecuador': 23, ' Ireland': 19, ' Greece': 19, ' Trinadad&Tobago': 17, ' France': 17, ' Laos': 16, ' Thailand': 15, ' Hong': 14, ' Outlying-US(Guam-USVI-etc)': 14, ' Honduras': 12, ' Cambodia': 11, ' Yugoslavia': 10, ' Scotland': 9, ' Hungary': 7, ' Holand-Netherlands': 1, ' <=50K': 2639}\n"
     ]
    }
   ],
   "source": [
    "#Get all that match the criteria\n",
    "filteredData = adult_data[(adult_data['age'] < 65) & (adult_data['native-country'] != ' United-States') & (adult_data['salary'] == ' <=50K')]\n",
    "\n",
    "#put frequency dis into dict\n",
    "dictAge = pd.value_counts(filteredData.age).to_dict()\n",
    "dictCountry = pd.value_counts(filteredData['native-country']).to_dict()\n",
    "dictSalary = pd.value_counts(filteredData.salary).to_dict()\n",
    "\n",
    "#append the data to one dictionary\n",
    "dict2 = dict(dictAge)\n",
    "dict2.update(dictCountry)\n",
    "dict2.update(dictSalary)\n",
    "\n",
    "#print dictionaru\n",
    "print(dict2)"
   ]
  },
  {
   "cell_type": "markdown",
   "metadata": {},
   "source": [
    "__Task 3:__ \n",
    "\n",
    "Find out the mean, median, mode and standard deviation of hours-per-week and education-num for those meeting the following criteria:\n",
    "- age > 50\n",
    "- Marital-status is either divorce, separated, Widowed or Never-married\n",
    "\n",
    "Organise the results into a python dictionary."
   ]
  },
  {
   "cell_type": "code",
   "execution_count": 41,
   "metadata": {},
   "outputs": [
    {
     "name": "stdout",
     "output_type": "stream",
     "text": [
      "{'Mean Hours-per-week': 36.858126721763085, 'Median Hours-per-week': 40.0, 'Mode Hours-per-week': 40, 'Std Deviation Hours-per-week': 13.756412721024006, 'Mean Education': 9.4900826446281, 'Median Education': 9.0, 'Mode Education': 9, 'Std Deviation Education': 2.890065412115529}\n"
     ]
    }
   ],
   "source": [
    "import statistics \n",
    "#get data that matches criteria\n",
    "filteredData = adult_data[((adult_data['age'] > 50) & \n",
    "                           ((adult_data['Marital-status'] == ' Divorced') | \n",
    "                           (adult_data['Marital-status'] == ' Widowed') | \n",
    "                           (adult_data['Marital-status'] == ' Separated') | \n",
    "                           (adult_data['Marital-status'] == ' Never-married')))]\n",
    "\n",
    "#find mean, median, hrs per week and std dev of hours per week\n",
    "meanHrs = filteredData['hours-per-week'].mean()\n",
    "medianHrs = filteredData['hours-per-week'].median()\n",
    "modeHrs = statistics.mode(filteredData['hours-per-week'])\n",
    "stdDevHrs = (filteredData['hours-per-week']).std()\n",
    "\n",
    "#find mean, median, hrs per week and std dev of education num\n",
    "meanEducation = filteredData['education-num'].mean()\n",
    "medianEducation = filteredData['education-num'].median()\n",
    "modeEducation = statistics.mode(filteredData['education-num'])\n",
    "stdDevEducation = (filteredData['education-num']).std()\n",
    "\n",
    "#organise into dictionary\n",
    "dict_results = {'Mean Hours-per-week': meanHrs, 'Median Hours-per-week': medianHrs, 'Mode Hours-per-week': modeHrs,\n",
    "                'Std Deviation Hours-per-week': stdDevHrs,'Mean Education': meanEducation, 'Median Education':\n",
    "                medianEducation, 'Mode Education': modeEducation, 'Std Deviation Education': stdDevEducation}\n",
    "\n",
    "#print dictionary\n",
    "print(dict_results)"
   ]
  },
  {
   "cell_type": "markdown",
   "metadata": {},
   "source": [
    "__Task 4:__ \n",
    "\n",
    "Data analyses often yield more interesting observation when variables are examined together.\n",
    "In this task, you are required to find out if education can be used to predict the occupation of an individual.\n",
    "As this module is not about machine learning or data mining, you are only required to manually examine the data based on the distribution in these two attributes.\n",
    "\n",
    "Hint: For this, you need to first create a reasonable ordinal rank for the values in education and occupation, e.g. one may say Adm-clerical ranks lower than Exec-managerial, Doctorate is higher than Prof-school.\n",
    "This will be up to you to justify.\n",
    "Once this is completed, present the histogram or frequency distribution of these two variables.\n",
    "\n",
    "What can you find out from their shapes? Do they look similar or dissimilar?"
   ]
  },
  {
   "cell_type": "code",
   "execution_count": 144,
   "metadata": {},
   "outputs": [
    {
     "data": {
      "text/plain": [
       "<matplotlib.legend.Legend at 0x1c236a606c8>"
      ]
     },
     "execution_count": 144,
     "metadata": {},
     "output_type": "execute_result"
    },
    {
     "data": {
      "image/png": "[encoded data removed]",
      "text/plain": [
       "<Figure size 432x288 with 1 Axes>"
      ]
     },
     "metadata": {
      "needs_background": "light"
     },
     "output_type": "display_data"
    }
   ],
   "source": [
    "import numpy\n",
    "from matplotlib import pyplot as plt\n",
    "\n",
    "#Remove rows with unknown occupation\n",
    "adult_data = adult_data[adult_data['occupation'] != \" ?\"]\n",
    "\n",
    "#add new columns for ordinals\n",
    "adult_data['education-ordinal'] = adult_data['education']\n",
    "adult_data['occupation-ordinal'] = adult_data['occupation']\n",
    "\n",
    "#education ordinals\n",
    "dictEd = {\" Preschool\": \"1\", \" 1st-4th\":\"2\",\" 5th-6th\":\"3\",\" 7th-8th\":\"4\",\" 9th\":\"5\",\" 10th\":\"6\",\" 11th\":\"7\",\" 12th\":\"8\",\" HS-grad\":\"9\",\n",
    "        \" Some-college\":\"10\",\" Assoc-voc\":\"11\",\" Assoc-acdm\":\"12\",\" Bachelors\":\"13\", \" Masters\":\"14\", \" Prof-school\":\"15\", \" Doctorate\":\"16\"}\n",
    "\n",
    "# (subjective) occupation ordinals\n",
    "dictOcc = {\" Handlers-cleaners\": \"1\", \" Craft-repair\":\"2\",\" Transport-moving\":\"3\",\" Farming-fishing\":\"4\",\" Armed-Forces\":\"5\", \" Other-service\":\"6\", \" Sales\":\"7\",\" Machine-op-inspct\":\"8\", \" Priv-house-serv\": \"9\",\" Tech-support\":\"10\",\n",
    "        \" Adm-clerical\":\"11\", \" Protective-serv\":\"12\",\" Prof-specialty\":\"13\", \" Exec-managerial\":\"14\"}\n",
    "\n",
    "#Update ordinal columns\n",
    "for ed in dictEd:\n",
    "    adult_data['education-ordinal'] = adult_data['education-ordinal'].str.replace(ed,dictEd[ed])\n",
    "    \n",
    "for occ in dictOcc:\n",
    "    adult_data['occupation-ordinal'] = adult_data['occupation-ordinal'].str.replace(occ,dictOcc[occ])\n",
    "\n",
    "#set column as int\n",
    "adult_data['education-ordinal'] = adult_data['education-ordinal'].astype('int64')\n",
    "adult_data['occupation-ordinal'] = adult_data['occupation-ordinal'].astype('int64')\n",
    "occEddata = [adult_data['education-ordinal'],adult_data['occupation-ordinal']]\n",
    "\n",
    "fig, axes = plt.subplots(nrows=1, ncols=1)\n",
    "colors = ['red', 'blue']\n",
    "axes.hist(occEddata, color=colors, label=['Education Ordinal','Occupation Ordinal'])\n",
    "axes.legend(prop={'size':10})\n",
    "\n",
    "\n",
    "#The shape isn't very similar, so alone, the education cannot be used to accurately predict the occupation. However,\n",
    "#it could be used in conjunction with other variables\n"
   ]
  },
  {
   "cell_type": "markdown",
   "metadata": {},
   "source": [
    "__Task 5:__ \n",
    "\n",
    "Similar to __Task 4__, find out if the variable education-num is indicative of the education variable.\n",
    "i.e. We want to know if the number of year in education is consistent with the education qualification attained."
   ]
  },
  {
   "cell_type": "code",
   "execution_count": 129,
   "metadata": {},
   "outputs": [
    {
     "data": {
      "text/html": [
       "<div>\n",
       "<style scoped>\n",
       "    .dataframe tbody tr th:only-of-type {\n",
       "        vertical-align: middle;\n",
       "    }\n",
       "\n",
       "    .dataframe tbody tr th {\n",
       "        vertical-align: top;\n",
       "    }\n",
       "\n",
       "    .dataframe thead th {\n",
       "        text-align: right;\n",
       "    }\n",
       "</style>\n",
       "<table border=\"1\" class=\"dataframe\">\n",
       "  <thead>\n",
       "    <tr style=\"text-align: right;\">\n",
       "      <th>education</th>\n",
       "      <th>10th</th>\n",
       "      <th>11th</th>\n",
       "      <th>12th</th>\n",
       "      <th>1st-4th</th>\n",
       "      <th>5th-6th</th>\n",
       "      <th>7th-8th</th>\n",
       "      <th>9th</th>\n",
       "      <th>Assoc-acdm</th>\n",
       "      <th>Assoc-voc</th>\n",
       "      <th>Bachelors</th>\n",
       "      <th>Doctorate</th>\n",
       "      <th>HS-grad</th>\n",
       "      <th>Masters</th>\n",
       "      <th>Preschool</th>\n",
       "      <th>Prof-school</th>\n",
       "      <th>Some-college</th>\n",
       "    </tr>\n",
       "    <tr>\n",
       "      <th>education-num</th>\n",
       "      <th></th>\n",
       "      <th></th>\n",
       "      <th></th>\n",
       "      <th></th>\n",
       "      <th></th>\n",
       "      <th></th>\n",
       "      <th></th>\n",
       "      <th></th>\n",
       "      <th></th>\n",
       "      <th></th>\n",
       "      <th></th>\n",
       "      <th></th>\n",
       "      <th></th>\n",
       "      <th></th>\n",
       "      <th></th>\n",
       "      <th></th>\n",
       "    </tr>\n",
       "  </thead>\n",
       "  <tbody>\n",
       "    <tr>\n",
       "      <td>1</td>\n",
       "      <td>0</td>\n",
       "      <td>0</td>\n",
       "      <td>0</td>\n",
       "      <td>0</td>\n",
       "      <td>0</td>\n",
       "      <td>0</td>\n",
       "      <td>0</td>\n",
       "      <td>0</td>\n",
       "      <td>0</td>\n",
       "      <td>0</td>\n",
       "      <td>0</td>\n",
       "      <td>0</td>\n",
       "      <td>0</td>\n",
       "      <td>83</td>\n",
       "      <td>0</td>\n",
       "      <td>0</td>\n",
       "    </tr>\n",
       "    <tr>\n",
       "      <td>2</td>\n",
       "      <td>0</td>\n",
       "      <td>0</td>\n",
       "      <td>0</td>\n",
       "      <td>247</td>\n",
       "      <td>0</td>\n",
       "      <td>0</td>\n",
       "      <td>0</td>\n",
       "      <td>0</td>\n",
       "      <td>0</td>\n",
       "      <td>0</td>\n",
       "      <td>0</td>\n",
       "      <td>0</td>\n",
       "      <td>0</td>\n",
       "      <td>0</td>\n",
       "      <td>0</td>\n",
       "      <td>0</td>\n",
       "    </tr>\n",
       "    <tr>\n",
       "      <td>3</td>\n",
       "      <td>0</td>\n",
       "      <td>0</td>\n",
       "      <td>0</td>\n",
       "      <td>0</td>\n",
       "      <td>509</td>\n",
       "      <td>0</td>\n",
       "      <td>0</td>\n",
       "      <td>0</td>\n",
       "      <td>0</td>\n",
       "      <td>0</td>\n",
       "      <td>0</td>\n",
       "      <td>0</td>\n",
       "      <td>0</td>\n",
       "      <td>0</td>\n",
       "      <td>0</td>\n",
       "      <td>0</td>\n",
       "    </tr>\n",
       "    <tr>\n",
       "      <td>4</td>\n",
       "      <td>0</td>\n",
       "      <td>0</td>\n",
       "      <td>0</td>\n",
       "      <td>0</td>\n",
       "      <td>0</td>\n",
       "      <td>955</td>\n",
       "      <td>0</td>\n",
       "      <td>0</td>\n",
       "      <td>0</td>\n",
       "      <td>0</td>\n",
       "      <td>0</td>\n",
       "      <td>0</td>\n",
       "      <td>0</td>\n",
       "      <td>0</td>\n",
       "      <td>0</td>\n",
       "      <td>0</td>\n",
       "    </tr>\n",
       "    <tr>\n",
       "      <td>5</td>\n",
       "      <td>0</td>\n",
       "      <td>0</td>\n",
       "      <td>0</td>\n",
       "      <td>0</td>\n",
       "      <td>0</td>\n",
       "      <td>0</td>\n",
       "      <td>756</td>\n",
       "      <td>0</td>\n",
       "      <td>0</td>\n",
       "      <td>0</td>\n",
       "      <td>0</td>\n",
       "      <td>0</td>\n",
       "      <td>0</td>\n",
       "      <td>0</td>\n",
       "      <td>0</td>\n",
       "      <td>0</td>\n",
       "    </tr>\n",
       "    <tr>\n",
       "      <td>6</td>\n",
       "      <td>1389</td>\n",
       "      <td>0</td>\n",
       "      <td>0</td>\n",
       "      <td>0</td>\n",
       "      <td>0</td>\n",
       "      <td>0</td>\n",
       "      <td>0</td>\n",
       "      <td>0</td>\n",
       "      <td>0</td>\n",
       "      <td>0</td>\n",
       "      <td>0</td>\n",
       "      <td>0</td>\n",
       "      <td>0</td>\n",
       "      <td>0</td>\n",
       "      <td>0</td>\n",
       "      <td>0</td>\n",
       "    </tr>\n",
       "    <tr>\n",
       "      <td>7</td>\n",
       "      <td>0</td>\n",
       "      <td>1812</td>\n",
       "      <td>0</td>\n",
       "      <td>0</td>\n",
       "      <td>0</td>\n",
       "      <td>0</td>\n",
       "      <td>0</td>\n",
       "      <td>0</td>\n",
       "      <td>0</td>\n",
       "      <td>0</td>\n",
       "      <td>0</td>\n",
       "      <td>0</td>\n",
       "      <td>0</td>\n",
       "      <td>0</td>\n",
       "      <td>0</td>\n",
       "      <td>0</td>\n",
       "    </tr>\n",
       "    <tr>\n",
       "      <td>8</td>\n",
       "      <td>0</td>\n",
       "      <td>0</td>\n",
       "      <td>657</td>\n",
       "      <td>0</td>\n",
       "      <td>0</td>\n",
       "      <td>0</td>\n",
       "      <td>0</td>\n",
       "      <td>0</td>\n",
       "      <td>0</td>\n",
       "      <td>0</td>\n",
       "      <td>0</td>\n",
       "      <td>0</td>\n",
       "      <td>0</td>\n",
       "      <td>0</td>\n",
       "      <td>0</td>\n",
       "      <td>0</td>\n",
       "    </tr>\n",
       "    <tr>\n",
       "      <td>9</td>\n",
       "      <td>0</td>\n",
       "      <td>0</td>\n",
       "      <td>0</td>\n",
       "      <td>0</td>\n",
       "      <td>0</td>\n",
       "      <td>0</td>\n",
       "      <td>0</td>\n",
       "      <td>0</td>\n",
       "      <td>0</td>\n",
       "      <td>0</td>\n",
       "      <td>0</td>\n",
       "      <td>15784</td>\n",
       "      <td>0</td>\n",
       "      <td>0</td>\n",
       "      <td>0</td>\n",
       "      <td>0</td>\n",
       "    </tr>\n",
       "    <tr>\n",
       "      <td>10</td>\n",
       "      <td>0</td>\n",
       "      <td>0</td>\n",
       "      <td>0</td>\n",
       "      <td>0</td>\n",
       "      <td>0</td>\n",
       "      <td>0</td>\n",
       "      <td>0</td>\n",
       "      <td>0</td>\n",
       "      <td>0</td>\n",
       "      <td>0</td>\n",
       "      <td>0</td>\n",
       "      <td>0</td>\n",
       "      <td>0</td>\n",
       "      <td>0</td>\n",
       "      <td>0</td>\n",
       "      <td>10878</td>\n",
       "    </tr>\n",
       "    <tr>\n",
       "      <td>11</td>\n",
       "      <td>0</td>\n",
       "      <td>0</td>\n",
       "      <td>0</td>\n",
       "      <td>0</td>\n",
       "      <td>0</td>\n",
       "      <td>0</td>\n",
       "      <td>0</td>\n",
       "      <td>0</td>\n",
       "      <td>2061</td>\n",
       "      <td>0</td>\n",
       "      <td>0</td>\n",
       "      <td>0</td>\n",
       "      <td>0</td>\n",
       "      <td>0</td>\n",
       "      <td>0</td>\n",
       "      <td>0</td>\n",
       "    </tr>\n",
       "    <tr>\n",
       "      <td>12</td>\n",
       "      <td>0</td>\n",
       "      <td>0</td>\n",
       "      <td>0</td>\n",
       "      <td>0</td>\n",
       "      <td>0</td>\n",
       "      <td>0</td>\n",
       "      <td>0</td>\n",
       "      <td>1601</td>\n",
       "      <td>0</td>\n",
       "      <td>0</td>\n",
       "      <td>0</td>\n",
       "      <td>0</td>\n",
       "      <td>0</td>\n",
       "      <td>0</td>\n",
       "      <td>0</td>\n",
       "      <td>0</td>\n",
       "    </tr>\n",
       "    <tr>\n",
       "      <td>13</td>\n",
       "      <td>0</td>\n",
       "      <td>0</td>\n",
       "      <td>0</td>\n",
       "      <td>0</td>\n",
       "      <td>0</td>\n",
       "      <td>0</td>\n",
       "      <td>0</td>\n",
       "      <td>0</td>\n",
       "      <td>0</td>\n",
       "      <td>8025</td>\n",
       "      <td>0</td>\n",
       "      <td>0</td>\n",
       "      <td>0</td>\n",
       "      <td>0</td>\n",
       "      <td>0</td>\n",
       "      <td>0</td>\n",
       "    </tr>\n",
       "    <tr>\n",
       "      <td>14</td>\n",
       "      <td>0</td>\n",
       "      <td>0</td>\n",
       "      <td>0</td>\n",
       "      <td>0</td>\n",
       "      <td>0</td>\n",
       "      <td>0</td>\n",
       "      <td>0</td>\n",
       "      <td>0</td>\n",
       "      <td>0</td>\n",
       "      <td>0</td>\n",
       "      <td>0</td>\n",
       "      <td>0</td>\n",
       "      <td>2657</td>\n",
       "      <td>0</td>\n",
       "      <td>0</td>\n",
       "      <td>0</td>\n",
       "    </tr>\n",
       "    <tr>\n",
       "      <td>15</td>\n",
       "      <td>0</td>\n",
       "      <td>0</td>\n",
       "      <td>0</td>\n",
       "      <td>0</td>\n",
       "      <td>0</td>\n",
       "      <td>0</td>\n",
       "      <td>0</td>\n",
       "      <td>0</td>\n",
       "      <td>0</td>\n",
       "      <td>0</td>\n",
       "      <td>0</td>\n",
       "      <td>0</td>\n",
       "      <td>0</td>\n",
       "      <td>0</td>\n",
       "      <td>834</td>\n",
       "      <td>0</td>\n",
       "    </tr>\n",
       "    <tr>\n",
       "      <td>16</td>\n",
       "      <td>0</td>\n",
       "      <td>0</td>\n",
       "      <td>0</td>\n",
       "      <td>0</td>\n",
       "      <td>0</td>\n",
       "      <td>0</td>\n",
       "      <td>0</td>\n",
       "      <td>0</td>\n",
       "      <td>0</td>\n",
       "      <td>0</td>\n",
       "      <td>594</td>\n",
       "      <td>0</td>\n",
       "      <td>0</td>\n",
       "      <td>0</td>\n",
       "      <td>0</td>\n",
       "      <td>0</td>\n",
       "    </tr>\n",
       "  </tbody>\n",
       "</table>\n",
       "</div>"
      ],
      "text/plain": [
       "education       10th   11th   12th   1st-4th   5th-6th   7th-8th   9th  \\\n",
       "education-num                                                            \n",
       "1                  0      0      0         0         0         0     0   \n",
       "2                  0      0      0       247         0         0     0   \n",
       "3                  0      0      0         0       509         0     0   \n",
       "4                  0      0      0         0         0       955     0   \n",
       "5                  0      0      0         0         0         0   756   \n",
       "6               1389      0      0         0         0         0     0   \n",
       "7                  0   1812      0         0         0         0     0   \n",
       "8                  0      0    657         0         0         0     0   \n",
       "9                  0      0      0         0         0         0     0   \n",
       "10                 0      0      0         0         0         0     0   \n",
       "11                 0      0      0         0         0         0     0   \n",
       "12                 0      0      0         0         0         0     0   \n",
       "13                 0      0      0         0         0         0     0   \n",
       "14                 0      0      0         0         0         0     0   \n",
       "15                 0      0      0         0         0         0     0   \n",
       "16                 0      0      0         0         0         0     0   \n",
       "\n",
       "education       Assoc-acdm   Assoc-voc   Bachelors   Doctorate   HS-grad  \\\n",
       "education-num                                                              \n",
       "1                        0           0           0           0         0   \n",
       "2                        0           0           0           0         0   \n",
       "3                        0           0           0           0         0   \n",
       "4                        0           0           0           0         0   \n",
       "5                        0           0           0           0         0   \n",
       "6                        0           0           0           0         0   \n",
       "7                        0           0           0           0         0   \n",
       "8                        0           0           0           0         0   \n",
       "9                        0           0           0           0     15784   \n",
       "10                       0           0           0           0         0   \n",
       "11                       0        2061           0           0         0   \n",
       "12                    1601           0           0           0         0   \n",
       "13                       0           0        8025           0         0   \n",
       "14                       0           0           0           0         0   \n",
       "15                       0           0           0           0         0   \n",
       "16                       0           0           0         594         0   \n",
       "\n",
       "education       Masters   Preschool   Prof-school   Some-college  \n",
       "education-num                                                     \n",
       "1                     0          83             0              0  \n",
       "2                     0           0             0              0  \n",
       "3                     0           0             0              0  \n",
       "4                     0           0             0              0  \n",
       "5                     0           0             0              0  \n",
       "6                     0           0             0              0  \n",
       "7                     0           0             0              0  \n",
       "8                     0           0             0              0  \n",
       "9                     0           0             0              0  \n",
       "10                    0           0             0          10878  \n",
       "11                    0           0             0              0  \n",
       "12                    0           0             0              0  \n",
       "13                    0           0             0              0  \n",
       "14                 2657           0             0              0  \n",
       "15                    0           0           834              0  \n",
       "16                    0           0             0              0  "
      ]
     },
     "execution_count": 129,
     "metadata": {},
     "output_type": "execute_result"
    }
   ],
   "source": [
    "freqDist = pd.crosstab(adult_data['education-num'], adult_data['education'])\n",
    "\n",
    "freqDist\n",
    "\n",
    "#As these results show, the education-num is directly linked with the education value. \n",
    "#This is shown by all people with a particular education number have the same education level \n",
    "#(e.g. education level 13 links with Bachelors, Level 16 with Doctorate etc)"
   ]
  },
  {
   "cell_type": "markdown",
   "metadata": {},
   "source": [
    "__Task 6:__\n",
    "\n",
    "Complete the following python script to manually construct a histogram for the age column. Your starting point is the manual histogram example.\n",
    "\n",
    "The requirements for this histogram is the followings:\n",
    "- The histogram must consist of 8 bins for <18, 18-24, 25-35, 36-45, 46-55, 56-65, 66-75 and 75>\n",
    "- The resulting histogram should be stored as a dictionary with the keys indicating the age ranges and value for the frequency counts\n",
    "\n",
    "N.B. You are not required to plot the histogram but you need to make sure the frequency in each bin is correctly counted."
   ]
  },
  {
   "cell_type": "code",
   "execution_count": 221,
   "metadata": {},
   "outputs": [
    {
     "name": "stdout",
     "output_type": "stream",
     "text": [
      "{'0-18': 1457, '18-25': 8170, '25-36': 14067, '36-46': 11701, '46-56': 7763, '56-66': 4118, '66-75': 1193, '75-90': 373}\n",
      "<class 'dict'>\n"
     ]
    }
   ],
   "source": [
    "fd_age = (adult_data.age)\n",
    "\n",
    "#Binning and converting to dictionary\n",
    "bins=[0,18,25,36,46,56,66,75,90]\n",
    "dict_bin = {\"0-18\":0, \"18-25\":0,\"25-36\":0,\"36-46\":0,\"46-56\":0,\"56-66\":0,\"66-75\":0,\"75-90\":0}\n",
    "\n",
    "#loop through each age\n",
    "for i in fd_age:\n",
    "    #loop range\n",
    "    for count in range(0,8):\n",
    "        #if it falls within range\n",
    "        if ((i <= bins[count+1]) & (i > bins[count])):\n",
    "            #increment correct dict by 1\n",
    "            dict_bin[str(bins[count]) + \"-\" + str(bins[count+1])]+=1\n",
    "\n",
    "print(dict_bin)\n",
    "print(type(dict_bin))\n"
   ]
  }
 ],
 "metadata": {
  "kernelspec": {
   "display_name": "Python 3",
   "language": "python",
   "name": "python3"
  },
  "language_info": {
   "codemirror_mode": {
    "name": "ipython",
    "version": 3
   },
   "file_extension": ".py",
   "mimetype": "text/x-python",
   "name": "python",
   "nbconvert_exporter": "python",
   "pygments_lexer": "ipython3",
   "version": "3.7.4"
  }
 },
 "nbformat": 4,
 "nbformat_minor": 4
}
